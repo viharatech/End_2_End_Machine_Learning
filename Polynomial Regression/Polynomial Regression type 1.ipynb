{
 "cells": [
  {
   "cell_type": "markdown",
   "metadata": {},
   "source": [
    "# Polynomial_Regression"
   ]
  },
  {
   "cell_type": "raw",
   "metadata": {},
   "source": [
    "Polynomial Regression is a regression algorithm that models the relationship between a dependent(y) and independent variable(x) \n",
    "\n",
    "as nth degree polynomial. The Polynomial Regression equation is given below:\n",
    "\n",
    "\n",
    "y= b0+b1x1+ b2x12+ b2x13+...... bnx1n"
   ]
  },
  {
   "cell_type": "raw",
   "metadata": {},
   "source": [
    "-> It is also called the special case of Multiple Linear Regression in ML. Because we add some polynomial terms to the Multiple \n",
    "\n",
    "-> Linear regression equation to convert it into Polynomial Regression.\n",
    "\n",
    "-> It is a linear model with some modification in order to increase the accuracy.\n",
    "\n",
    "-> The dataset used in Polynomial regression for training is of non-linear nature.\n",
    "\n",
    "-> It makes use of a linear regression model to fit the complicated and non-linear functions and datasets."
   ]
  },
  {
   "cell_type": "markdown",
   "metadata": {},
   "source": [
    "# Need for Polynomial Regression:"
   ]
  },
  {
   "cell_type": "raw",
   "metadata": {},
   "source": [
    "If we apply a linear model on a linear dataset, then it provides us a good result as we have seen in Simple Linear Regression, \n",
    "\n",
    "but if we apply the same model without any modification on a non-linear dataset, then it will produce a drastic output. Due to \n",
    "\n",
    "which loss function will increase, the error rate will be high, and accuracy will be decreased.\n",
    "\n",
    "So for such cases, where data points are arranged in a non-linear fashion, we need the Polynomial Regression model. We can \n",
    "\n",
    "understand it in a better way using the below comparison diagram of the linear dataset and non-linear dataset."
   ]
  },
  {
   "cell_type": "markdown",
   "metadata": {},
   "source": [
    "# Equation of the Polynomial Regression Model:"
   ]
  },
  {
   "cell_type": "raw",
   "metadata": {},
   "source": [
    "\n",
    "Simple Linear Regression equation:         y = b0+b1x        \n",
    "\n",
    "Multiple Linear Regression equation:         y= b0+b1x+ b2x2+ b3x3+....+ bnxn        \n",
    "\n",
    "Polynomial Regression equation:         y= b0+b1x + b2x2+ b3x3+....+ bnxn         "
   ]
  },
  {
   "cell_type": "code",
   "execution_count": 7,
   "metadata": {},
   "outputs": [
    {
     "data": {
      "image/jpeg": "[encoded data removed]",
      "text/plain": [
       "<IPython.core.display.Image object>"
      ]
     },
     "execution_count": 7,
     "metadata": {
      "image/jpeg": {
       "height": 600,
       "width": 600
      }
     },
     "output_type": "execute_result"
    }
   ],
   "source": [
    "from IPython.display import Image\n",
    "Image(\"C:/Users/korla/Desktop/img/poly 2.JPG\",width=600,height=600)"
   ]
  },
  {
   "cell_type": "raw",
   "metadata": {},
   "source": [
    "importing libraries"
   ]
  },
  {
   "cell_type": "code",
   "execution_count": 8,
   "metadata": {},
   "outputs": [],
   "source": [
    "import numpy as np\n",
    "import pandas as pd\n",
    "import matplotlib.pyplot as plt"
   ]
  },
  {
   "cell_type": "raw",
   "metadata": {},
   "source": [
    "Loading Dataset"
   ]
  },
  {
   "cell_type": "code",
   "execution_count": 11,
   "metadata": {},
   "outputs": [
    {
     "data": {
      "text/html": [
       "<div>\n",
       "<style scoped>\n",
       "    .dataframe tbody tr th:only-of-type {\n",
       "        vertical-align: middle;\n",
       "    }\n",
       "\n",
       "    .dataframe tbody tr th {\n",
       "        vertical-align: top;\n",
       "    }\n",
       "\n",
       "    .dataframe thead th {\n",
       "        text-align: right;\n",
       "    }\n",
       "</style>\n",
       "<table border=\"1\" class=\"dataframe\">\n",
       "  <thead>\n",
       "    <tr style=\"text-align: right;\">\n",
       "      <th></th>\n",
       "      <th>Age</th>\n",
       "      <th>Height</th>\n",
       "    </tr>\n",
       "  </thead>\n",
       "  <tbody>\n",
       "    <tr>\n",
       "      <td>0</td>\n",
       "      <td>10</td>\n",
       "      <td>138</td>\n",
       "    </tr>\n",
       "    <tr>\n",
       "      <td>1</td>\n",
       "      <td>11</td>\n",
       "      <td>138</td>\n",
       "    </tr>\n",
       "    <tr>\n",
       "      <td>2</td>\n",
       "      <td>12</td>\n",
       "      <td>138</td>\n",
       "    </tr>\n",
       "    <tr>\n",
       "      <td>3</td>\n",
       "      <td>13</td>\n",
       "      <td>139</td>\n",
       "    </tr>\n",
       "    <tr>\n",
       "      <td>4</td>\n",
       "      <td>14</td>\n",
       "      <td>139</td>\n",
       "    </tr>\n",
       "  </tbody>\n",
       "</table>\n",
       "</div>"
      ],
      "text/plain": [
       "   Age  Height\n",
       "0   10     138\n",
       "1   11     138\n",
       "2   12     138\n",
       "3   13     139\n",
       "4   14     139"
      ]
     },
     "execution_count": 11,
     "metadata": {},
     "output_type": "execute_result"
    }
   ],
   "source": [
    "df=pd.read_csv(\"C:/Users/korla/Desktop/krish codes/Data_Science_Bootcamp-master/Regression_Algorithms/Polynomial_Regression/Height_Weight_Dataset.csv\")\n",
    "df.head()"
   ]
  },
  {
   "cell_type": "code",
   "execution_count": 12,
   "metadata": {},
   "outputs": [
    {
     "name": "stdout",
     "output_type": "stream",
     "text": [
      "<class 'pandas.core.frame.DataFrame'>\n",
      "RangeIndex: 71 entries, 0 to 70\n",
      "Data columns (total 2 columns):\n",
      "Age       71 non-null int64\n",
      "Height    71 non-null int64\n",
      "dtypes: int64(2)\n",
      "memory usage: 1.2 KB\n"
     ]
    }
   ],
   "source": [
    "df.info()"
   ]
  },
  {
   "cell_type": "code",
   "execution_count": 15,
   "metadata": {},
   "outputs": [
    {
     "data": {
      "text/html": [
       "<div>\n",
       "<style scoped>\n",
       "    .dataframe tbody tr th:only-of-type {\n",
       "        vertical-align: middle;\n",
       "    }\n",
       "\n",
       "    .dataframe tbody tr th {\n",
       "        vertical-align: top;\n",
       "    }\n",
       "\n",
       "    .dataframe thead th {\n",
       "        text-align: right;\n",
       "    }\n",
       "</style>\n",
       "<table border=\"1\" class=\"dataframe\">\n",
       "  <thead>\n",
       "    <tr style=\"text-align: right;\">\n",
       "      <th></th>\n",
       "      <th>Age</th>\n",
       "      <th>Height</th>\n",
       "    </tr>\n",
       "  </thead>\n",
       "  <tbody>\n",
       "    <tr>\n",
       "      <td>count</td>\n",
       "      <td>71.000000</td>\n",
       "      <td>71.000000</td>\n",
       "    </tr>\n",
       "    <tr>\n",
       "      <td>mean</td>\n",
       "      <td>45.000000</td>\n",
       "      <td>160.873239</td>\n",
       "    </tr>\n",
       "    <tr>\n",
       "      <td>std</td>\n",
       "      <td>20.639767</td>\n",
       "      <td>20.842902</td>\n",
       "    </tr>\n",
       "    <tr>\n",
       "      <td>min</td>\n",
       "      <td>10.000000</td>\n",
       "      <td>138.000000</td>\n",
       "    </tr>\n",
       "    <tr>\n",
       "      <td>25%</td>\n",
       "      <td>27.500000</td>\n",
       "      <td>143.500000</td>\n",
       "    </tr>\n",
       "    <tr>\n",
       "      <td>50%</td>\n",
       "      <td>45.000000</td>\n",
       "      <td>155.000000</td>\n",
       "    </tr>\n",
       "    <tr>\n",
       "      <td>75%</td>\n",
       "      <td>62.500000</td>\n",
       "      <td>171.500000</td>\n",
       "    </tr>\n",
       "    <tr>\n",
       "      <td>max</td>\n",
       "      <td>80.000000</td>\n",
       "      <td>208.000000</td>\n",
       "    </tr>\n",
       "  </tbody>\n",
       "</table>\n",
       "</div>"
      ],
      "text/plain": [
       "             Age      Height\n",
       "count  71.000000   71.000000\n",
       "mean   45.000000  160.873239\n",
       "std    20.639767   20.842902\n",
       "min    10.000000  138.000000\n",
       "25%    27.500000  143.500000\n",
       "50%    45.000000  155.000000\n",
       "75%    62.500000  171.500000\n",
       "max    80.000000  208.000000"
      ]
     },
     "execution_count": 15,
     "metadata": {},
     "output_type": "execute_result"
    }
   ],
   "source": [
    "df.describe()"
   ]
  },
  {
   "cell_type": "raw",
   "metadata": {},
   "source": [
    "primary we will check with the simple Linear Regression how the best fit line going through and we will find the error for both simple Linear regression and Polynomial Linear regression"
   ]
  },
  {
   "cell_type": "code",
   "execution_count": 18,
   "metadata": {},
   "outputs": [],
   "source": [
    "X = df.iloc[:,:-1]\n",
    "y=df.iloc[:,-1]"
   ]
  },
  {
   "cell_type": "code",
   "execution_count": 20,
   "metadata": {},
   "outputs": [],
   "source": [
    "from sklearn.model_selection import train_test_split"
   ]
  },
  {
   "cell_type": "code",
   "execution_count": 110,
   "metadata": {},
   "outputs": [],
   "source": [
    "X_train, X_test, y_train, y_test = train_test_split(X, y, test_size=0.3,random_state=0)"
   ]
  },
  {
   "cell_type": "code",
   "execution_count": 111,
   "metadata": {},
   "outputs": [
    {
     "data": {
      "text/html": [
       "<div>\n",
       "<style scoped>\n",
       "    .dataframe tbody tr th:only-of-type {\n",
       "        vertical-align: middle;\n",
       "    }\n",
       "\n",
       "    .dataframe tbody tr th {\n",
       "        vertical-align: top;\n",
       "    }\n",
       "\n",
       "    .dataframe thead th {\n",
       "        text-align: right;\n",
       "    }\n",
       "</style>\n",
       "<table border=\"1\" class=\"dataframe\">\n",
       "  <thead>\n",
       "    <tr style=\"text-align: right;\">\n",
       "      <th></th>\n",
       "      <th>Age</th>\n",
       "    </tr>\n",
       "  </thead>\n",
       "  <tbody>\n",
       "    <tr>\n",
       "      <td>2</td>\n",
       "      <td>12</td>\n",
       "    </tr>\n",
       "    <tr>\n",
       "      <td>40</td>\n",
       "      <td>50</td>\n",
       "    </tr>\n",
       "    <tr>\n",
       "      <td>11</td>\n",
       "      <td>21</td>\n",
       "    </tr>\n",
       "    <tr>\n",
       "      <td>3</td>\n",
       "      <td>13</td>\n",
       "    </tr>\n",
       "    <tr>\n",
       "      <td>54</td>\n",
       "      <td>64</td>\n",
       "    </tr>\n",
       "  </tbody>\n",
       "</table>\n",
       "</div>"
      ],
      "text/plain": [
       "    Age\n",
       "2    12\n",
       "40   50\n",
       "11   21\n",
       "3    13\n",
       "54   64"
      ]
     },
     "execution_count": 111,
     "metadata": {},
     "output_type": "execute_result"
    }
   ],
   "source": [
    "X_train.head()"
   ]
  },
  {
   "cell_type": "code",
   "execution_count": 112,
   "metadata": {},
   "outputs": [
    {
     "data": {
      "text/html": [
       "<div>\n",
       "<style scoped>\n",
       "    .dataframe tbody tr th:only-of-type {\n",
       "        vertical-align: middle;\n",
       "    }\n",
       "\n",
       "    .dataframe tbody tr th {\n",
       "        vertical-align: top;\n",
       "    }\n",
       "\n",
       "    .dataframe thead th {\n",
       "        text-align: right;\n",
       "    }\n",
       "</style>\n",
       "<table border=\"1\" class=\"dataframe\">\n",
       "  <thead>\n",
       "    <tr style=\"text-align: right;\">\n",
       "      <th></th>\n",
       "      <th>Age</th>\n",
       "    </tr>\n",
       "  </thead>\n",
       "  <tbody>\n",
       "    <tr>\n",
       "      <td>26</td>\n",
       "      <td>36</td>\n",
       "    </tr>\n",
       "    <tr>\n",
       "      <td>27</td>\n",
       "      <td>37</td>\n",
       "    </tr>\n",
       "    <tr>\n",
       "      <td>48</td>\n",
       "      <td>58</td>\n",
       "    </tr>\n",
       "    <tr>\n",
       "      <td>22</td>\n",
       "      <td>32</td>\n",
       "    </tr>\n",
       "    <tr>\n",
       "      <td>30</td>\n",
       "      <td>40</td>\n",
       "    </tr>\n",
       "  </tbody>\n",
       "</table>\n",
       "</div>"
      ],
      "text/plain": [
       "    Age\n",
       "26   36\n",
       "27   37\n",
       "48   58\n",
       "22   32\n",
       "30   40"
      ]
     },
     "execution_count": 112,
     "metadata": {},
     "output_type": "execute_result"
    }
   ],
   "source": [
    "X_test.head()"
   ]
  },
  {
   "cell_type": "code",
   "execution_count": 113,
   "metadata": {},
   "outputs": [
    {
     "data": {
      "text/plain": [
       "2     138\n",
       "40    160\n",
       "11    141\n",
       "3     139\n",
       "54    173\n",
       "Name: Height, dtype: int64"
      ]
     },
     "execution_count": 113,
     "metadata": {},
     "output_type": "execute_result"
    }
   ],
   "source": [
    "y_train.head()"
   ]
  },
  {
   "cell_type": "code",
   "execution_count": 114,
   "metadata": {},
   "outputs": [
    {
     "data": {
      "text/plain": [
       "26    148\n",
       "27    148\n",
       "48    167\n",
       "22    146\n",
       "30    150\n",
       "Name: Height, dtype: int64"
      ]
     },
     "execution_count": 114,
     "metadata": {},
     "output_type": "execute_result"
    }
   ],
   "source": [
    "y_test.head()"
   ]
  },
  {
   "cell_type": "code",
   "execution_count": 170,
   "metadata": {},
   "outputs": [],
   "source": [
    "from sklearn.linear_model import LinearRegression\n"
   ]
  },
  {
   "cell_type": "code",
   "execution_count": 171,
   "metadata": {},
   "outputs": [
    {
     "data": {
      "text/plain": [
       "LinearRegression(copy_X=True, fit_intercept=True, n_jobs=None, normalize=False)"
      ]
     },
     "execution_count": 171,
     "metadata": {},
     "output_type": "execute_result"
    }
   ],
   "source": [
    "reg=LinearRegression()\n",
    "reg.fit(X_train,y_train)\n"
   ]
  },
  {
   "cell_type": "code",
   "execution_count": 172,
   "metadata": {},
   "outputs": [
    {
     "data": {
      "text/plain": [
       "array([130.83473492, 165.77149667, 139.10923113, 131.75412339,\n",
       "       178.6429352 , 170.368439  , 138.18984266, 166.69088513,\n",
       "       174.04599287, 177.72354674, 181.4011006 , 158.41638893,\n",
       "       141.86739653, 191.51437374, 146.46433886, 155.65822353,\n",
       "       176.80415827, 161.17455433, 145.5449504 , 128.99595799,\n",
       "       142.78678499, 133.59290033, 143.70617346, 147.38372733,\n",
       "       189.67559681, 136.35106573, 140.94800806, 151.98066966,\n",
       "       163.01333127, 144.62556193, 184.15926601, 171.28782747,\n",
       "       186.91743141, 164.8521082 , 163.93271973, 129.91534646,\n",
       "       182.32048907, 140.02861959, 185.07865447, 151.0612812 ,\n",
       "       134.51228879, 150.14189273, 162.0939428 , 148.3031158 ,\n",
       "       137.27045419, 190.59498527, 187.83681987, 172.20721594,\n",
       "       169.44905053])"
      ]
     },
     "execution_count": 172,
     "metadata": {},
     "output_type": "execute_result"
    }
   ],
   "source": [
    "X_train_pred=reg.predict(X_train)\n",
    "X_train_pred"
   ]
  },
  {
   "cell_type": "code",
   "execution_count": 173,
   "metadata": {},
   "outputs": [
    {
     "data": {
      "image/png": "[encoded data removed]",
      "text/plain": [
       "<Figure size 432x288 with 1 Axes>"
      ]
     },
     "metadata": {
      "needs_background": "light"
     },
     "output_type": "display_data"
    }
   ],
   "source": [
    "plt.title(\"polynomial regression\")\n",
    "plt.xlabel(\"ages\")\n",
    "plt.ylabel(\"height\")\n",
    "plt.scatter(X_train,y_train,color='red',marker=\"+\")\n",
    "plt.plot(X_train,X_train_pred,color=\"blue\",marker='o')\n",
    "plt.show()"
   ]
  },
  {
   "cell_type": "code",
   "execution_count": 174,
   "metadata": {},
   "outputs": [
    {
     "data": {
      "text/plain": [
       "array([152.90005813, 153.8194466 , 173.1266044 , 149.22250426,\n",
       "       156.577612  , 175.8847698 , 135.43167726, 183.23987754,\n",
       "       160.25516587, 193.35315067, 180.48171214, 154.73883506,\n",
       "       157.49700047, 167.6102736 , 159.3357774 , 179.56232367,\n",
       "       192.43376221, 185.99804294, 168.52966207, 132.67351186,\n",
       "       188.75620834, 174.96538134])"
      ]
     },
     "execution_count": 174,
     "metadata": {},
     "output_type": "execute_result"
    }
   ],
   "source": [
    "y_test_pred=reg.predict(X_test)\n",
    "y_test_pred"
   ]
  },
  {
   "cell_type": "code",
   "execution_count": 175,
   "metadata": {},
   "outputs": [
    {
     "data": {
      "text/html": [
       "<div>\n",
       "<style scoped>\n",
       "    .dataframe tbody tr th:only-of-type {\n",
       "        vertical-align: middle;\n",
       "    }\n",
       "\n",
       "    .dataframe tbody tr th {\n",
       "        vertical-align: top;\n",
       "    }\n",
       "\n",
       "    .dataframe thead th {\n",
       "        text-align: right;\n",
       "    }\n",
       "</style>\n",
       "<table border=\"1\" class=\"dataframe\">\n",
       "  <thead>\n",
       "    <tr style=\"text-align: right;\">\n",
       "      <th></th>\n",
       "      <th>actual</th>\n",
       "      <th>predict</th>\n",
       "    </tr>\n",
       "  </thead>\n",
       "  <tbody>\n",
       "    <tr>\n",
       "      <td>26</td>\n",
       "      <td>148</td>\n",
       "      <td>152.900058</td>\n",
       "    </tr>\n",
       "    <tr>\n",
       "      <td>27</td>\n",
       "      <td>148</td>\n",
       "      <td>153.819447</td>\n",
       "    </tr>\n",
       "    <tr>\n",
       "      <td>48</td>\n",
       "      <td>167</td>\n",
       "      <td>173.126604</td>\n",
       "    </tr>\n",
       "    <tr>\n",
       "      <td>22</td>\n",
       "      <td>146</td>\n",
       "      <td>149.222504</td>\n",
       "    </tr>\n",
       "    <tr>\n",
       "      <td>30</td>\n",
       "      <td>150</td>\n",
       "      <td>156.577612</td>\n",
       "    </tr>\n",
       "  </tbody>\n",
       "</table>\n",
       "</div>"
      ],
      "text/plain": [
       "    actual     predict\n",
       "26     148  152.900058\n",
       "27     148  153.819447\n",
       "48     167  173.126604\n",
       "22     146  149.222504\n",
       "30     150  156.577612"
      ]
     },
     "execution_count": 175,
     "metadata": {},
     "output_type": "execute_result"
    }
   ],
   "source": [
    "a=pd.DataFrame({'actual':y_test,'predict':y_test_pred})\n",
    "a.head()"
   ]
  },
  {
   "cell_type": "code",
   "execution_count": 176,
   "metadata": {},
   "outputs": [
    {
     "data": {
      "image/png": "[encoded data removed]",
      "text/plain": [
       "<Figure size 432x288 with 1 Axes>"
      ]
     },
     "metadata": {
      "needs_background": "light"
     },
     "output_type": "display_data"
    }
   ],
   "source": [
    "plt.title(\"Polynomial Regression\")\n",
    "plt.xlabel(\"ages\")\n",
    "plt.ylabel('height')\n",
    "plt.scatter(X_test,y_test,color=\"red\",marker=\"+\")\n",
    "plt.plot(X_test,y_test_pred,color=\"blue\",marker=\"o\")\n",
    "plt.show()"
   ]
  },
  {
   "cell_type": "raw",
   "metadata": {},
   "source": [
    "lets find the accuracy by simple Linear Regression"
   ]
  },
  {
   "cell_type": "code",
   "execution_count": 177,
   "metadata": {},
   "outputs": [
    {
     "data": {
      "text/plain": [
       "90.2527818811204"
      ]
     },
     "execution_count": 177,
     "metadata": {},
     "output_type": "execute_result"
    }
   ],
   "source": [
    "# w.r.t training data\n",
    "from sklearn.metrics import r2_score\n",
    "accuracy=r2_score(y_train,X_train_pred)\n",
    "accuracy * 100"
   ]
  },
  {
   "cell_type": "raw",
   "metadata": {},
   "source": [
    "we have seen that model performance 90 % using simple linear regression"
   ]
  },
  {
   "cell_type": "code",
   "execution_count": 178,
   "metadata": {},
   "outputs": [
    {
     "data": {
      "text/plain": [
       "87.27873738671586"
      ]
     },
     "execution_count": 178,
     "metadata": {},
     "output_type": "execute_result"
    }
   ],
   "source": [
    "# w.r.t test data\n",
    "\n",
    "from sklearn.metrics import r2_score\n",
    "accuracy1=r2_score(y_test,y_test_pred)\n",
    "accuracy1 * 100"
   ]
  },
  {
   "cell_type": "markdown",
   "metadata": {},
   "source": [
    "# Now lets check it with the Polynomial Regression"
   ]
  },
  {
   "cell_type": "raw",
   "metadata": {},
   "source": [
    "Applying polynomial regression to the data "
   ]
  },
  {
   "cell_type": "code",
   "execution_count": 179,
   "metadata": {},
   "outputs": [
    {
     "data": {
      "text/plain": [
       "array([[1.000e+00, 1.200e+01, 1.440e+02],\n",
       "       [1.000e+00, 5.000e+01, 2.500e+03],\n",
       "       [1.000e+00, 2.100e+01, 4.410e+02],\n",
       "       [1.000e+00, 1.300e+01, 1.690e+02],\n",
       "       [1.000e+00, 6.400e+01, 4.096e+03],\n",
       "       [1.000e+00, 5.500e+01, 3.025e+03],\n",
       "       [1.000e+00, 2.000e+01, 4.000e+02],\n",
       "       [1.000e+00, 5.100e+01, 2.601e+03],\n",
       "       [1.000e+00, 5.900e+01, 3.481e+03],\n",
       "       [1.000e+00, 6.300e+01, 3.969e+03],\n",
       "       [1.000e+00, 6.700e+01, 4.489e+03],\n",
       "       [1.000e+00, 4.200e+01, 1.764e+03],\n",
       "       [1.000e+00, 2.400e+01, 5.760e+02],\n",
       "       [1.000e+00, 7.800e+01, 6.084e+03],\n",
       "       [1.000e+00, 2.900e+01, 8.410e+02],\n",
       "       [1.000e+00, 3.900e+01, 1.521e+03],\n",
       "       [1.000e+00, 6.200e+01, 3.844e+03],\n",
       "       [1.000e+00, 4.500e+01, 2.025e+03],\n",
       "       [1.000e+00, 2.800e+01, 7.840e+02],\n",
       "       [1.000e+00, 1.000e+01, 1.000e+02],\n",
       "       [1.000e+00, 2.500e+01, 6.250e+02],\n",
       "       [1.000e+00, 1.500e+01, 2.250e+02],\n",
       "       [1.000e+00, 2.600e+01, 6.760e+02],\n",
       "       [1.000e+00, 3.000e+01, 9.000e+02],\n",
       "       [1.000e+00, 7.600e+01, 5.776e+03],\n",
       "       [1.000e+00, 1.800e+01, 3.240e+02],\n",
       "       [1.000e+00, 2.300e+01, 5.290e+02],\n",
       "       [1.000e+00, 3.500e+01, 1.225e+03],\n",
       "       [1.000e+00, 4.700e+01, 2.209e+03],\n",
       "       [1.000e+00, 2.700e+01, 7.290e+02],\n",
       "       [1.000e+00, 7.000e+01, 4.900e+03],\n",
       "       [1.000e+00, 5.600e+01, 3.136e+03],\n",
       "       [1.000e+00, 7.300e+01, 5.329e+03],\n",
       "       [1.000e+00, 4.900e+01, 2.401e+03],\n",
       "       [1.000e+00, 4.800e+01, 2.304e+03],\n",
       "       [1.000e+00, 1.100e+01, 1.210e+02],\n",
       "       [1.000e+00, 6.800e+01, 4.624e+03],\n",
       "       [1.000e+00, 2.200e+01, 4.840e+02],\n",
       "       [1.000e+00, 7.100e+01, 5.041e+03],\n",
       "       [1.000e+00, 3.400e+01, 1.156e+03],\n",
       "       [1.000e+00, 1.600e+01, 2.560e+02],\n",
       "       [1.000e+00, 3.300e+01, 1.089e+03],\n",
       "       [1.000e+00, 4.600e+01, 2.116e+03],\n",
       "       [1.000e+00, 3.100e+01, 9.610e+02],\n",
       "       [1.000e+00, 1.900e+01, 3.610e+02],\n",
       "       [1.000e+00, 7.700e+01, 5.929e+03],\n",
       "       [1.000e+00, 7.400e+01, 5.476e+03],\n",
       "       [1.000e+00, 5.700e+01, 3.249e+03],\n",
       "       [1.000e+00, 5.400e+01, 2.916e+03]])"
      ]
     },
     "execution_count": 179,
     "metadata": {},
     "output_type": "execute_result"
    }
   ],
   "source": [
    "from sklearn.preprocessing import PolynomialFeatures\n",
    "X_rate = PolynomialFeatures(degree = 2)\n",
    "X_poly= X_rate.fit_transform(X_train)\n",
    "\n",
    "\n",
    "X_poly"
   ]
  },
  {
   "cell_type": "code",
   "execution_count": 180,
   "metadata": {},
   "outputs": [],
   "source": [
    "from sklearn.linear_model import LinearRegression\n",
    "reg1=LinearRegression()\n"
   ]
  },
  {
   "cell_type": "code",
   "execution_count": 181,
   "metadata": {},
   "outputs": [
    {
     "data": {
      "text/plain": [
       "LinearRegression(copy_X=True, fit_intercept=True, n_jobs=None, normalize=False)"
      ]
     },
     "execution_count": 181,
     "metadata": {},
     "output_type": "execute_result"
    }
   ],
   "source": [
    "reg1.fit(X_poly,y_train)"
   ]
  },
  {
   "cell_type": "code",
   "execution_count": 182,
   "metadata": {},
   "outputs": [
    {
     "data": {
      "text/plain": [
       "array([140.30766833, 159.29470102, 140.5097378 , 140.1984773 ,\n",
       "       178.26945458, 165.33090573, 140.35564244, 160.43612036,\n",
       "       170.75226389, 176.70019484, 183.17469858, 151.34813504,\n",
       "       141.16948868, 203.69472483, 142.92728947, 148.911201  ,\n",
       "       175.1638459 , 154.08126629, 142.50990771, 140.6247828 ,\n",
       "       141.45522724, 140.07882763, 141.77387659, 143.37758202,\n",
       "       199.66761377, 140.14618412, 140.91666092, 146.12270679,\n",
       "       156.06790778, 142.12543675, 188.37613978, 166.63687907,\n",
       "       193.87377818, 158.18619247, 157.11059473, 140.44977017,\n",
       "       184.87560152, 140.69674396, 190.17577512, 145.50786024,\n",
       "       140.06836899, 144.92592448, 155.05813163, 143.86078538,\n",
       "       140.23445788, 201.6647139 , 195.77214591, 167.97576321,\n",
       "       164.05784319])"
      ]
     },
     "execution_count": 182,
     "metadata": {},
     "output_type": "execute_result"
    }
   ],
   "source": [
    "X_train_pred = reg1.predict(X_rate.fit_transform(X_train))\n",
    "X_train_pred"
   ]
  },
  {
   "cell_type": "code",
   "execution_count": 196,
   "metadata": {},
   "outputs": [
    {
     "data": {
      "image/jpeg": "[encoded data removed]",
      "text/plain": [
       "<IPython.core.display.Image object>"
      ]
     },
     "execution_count": 196,
     "metadata": {
      "image/jpeg": {
       "height": 600,
       "width": 600
      }
     },
     "output_type": "execute_result"
    }
   ],
   "source": [
    "from IPython.display import Image\n",
    "Image(\"C:/Users/korla/Desktop/img/ploy 1.JPG\",width=600,height=600)"
   ]
  },
  {
   "cell_type": "code",
   "execution_count": 183,
   "metadata": {},
   "outputs": [
    {
     "data": {
      "image/png": "[encoded data removed]",
      "text/plain": [
       "<Figure size 432x288 with 1 Axes>"
      ]
     },
     "metadata": {
      "needs_background": "light"
     },
     "output_type": "display_data"
    }
   ],
   "source": [
    "# Visualise the Polynomial Regression Results \n",
    "plt.scatter(X_train, y_train, color = 'green') \n",
    "  \n",
    "plt.plot(X_train, reg1.predict(polynom.fit_transform(X_train))) \n",
    "plt.title('Polynomial Regression') \n",
    "plt.xlabel('Age') \n",
    "plt.ylabel('Height') \n",
    "  \n",
    "plt.show() "
   ]
  },
  {
   "cell_type": "code",
   "execution_count": 184,
   "metadata": {},
   "outputs": [
    {
     "data": {
      "text/plain": [
       "array([146.77046414, 147.45113229, 169.34755815, 144.37689953,\n",
       "       149.69060155, 173.66040777, 140.09082115, 186.60941525,\n",
       "       153.13731174, 207.85347909, 181.50670645, 148.16471125,\n",
       "       150.5029129 , 161.6104505 , 152.22626799, 179.87162511,\n",
       "       205.75764656, 192.00832125, 162.81769144, 140.12219706,\n",
       "       197.70342444, 172.18988043])"
      ]
     },
     "execution_count": 184,
     "metadata": {},
     "output_type": "execute_result"
    }
   ],
   "source": [
    "y_test_pred =reg1.predict(X_rate.fit_transform(X_test))\n",
    "y_test_pred\n"
   ]
  },
  {
   "cell_type": "code",
   "execution_count": 185,
   "metadata": {},
   "outputs": [
    {
     "data": {
      "image/png": "[encoded data removed]",
      "text/plain": [
       "<Figure size 432x288 with 1 Axes>"
      ]
     },
     "metadata": {
      "needs_background": "light"
     },
     "output_type": "display_data"
    }
   ],
   "source": [
    "plt.title(\"polynomial regression\")\n",
    "plt.xlabel(\"ages\")\n",
    "plt.ylabel(\"height\")\n",
    "plt.scatter(X_test,y_test,color=\"red\",marker=\"+\")\n",
    "plt.plot(X_test,y_test_pred,color=\"blue\",marker=\"o\")\n",
    "plt.show()"
   ]
  },
  {
   "cell_type": "code",
   "execution_count": 197,
   "metadata": {},
   "outputs": [
    {
     "data": {
      "image/jpeg": "[encoded data removed]",
      "text/plain": [
       "<IPython.core.display.Image object>"
      ]
     },
     "execution_count": 197,
     "metadata": {
      "image/jpeg": {
       "height": 600,
       "width": 600
      }
     },
     "output_type": "execute_result"
    }
   ],
   "source": [
    "from IPython.display import Image\n",
    "Image(\"C:/Users/korla/Desktop/img/poly 3.JPG\",width=600,height=600)"
   ]
  },
  {
   "cell_type": "code",
   "execution_count": 186,
   "metadata": {},
   "outputs": [
    {
     "data": {
      "text/plain": [
       "99.03416257227849"
      ]
     },
     "execution_count": 186,
     "metadata": {},
     "output_type": "execute_result"
    }
   ],
   "source": [
    "from sklearn.metrics import r2_score\n",
    "accuracy3 = r2_score(y_train,X_train_pred)\n",
    "accuracy3 * 100"
   ]
  },
  {
   "cell_type": "raw",
   "metadata": {},
   "source": [
    "the acuracy score is 99 % but the accuracy score of simple linear regression is 90 % w.r.t training data\n",
    "\n",
    "this shows polynomial linear regression works munch better than simple Linear regression in the case of non-linear distributed data points"
   ]
  },
  {
   "cell_type": "code",
   "execution_count": 187,
   "metadata": {},
   "outputs": [
    {
     "data": {
      "text/plain": [
       "98.9251171098352"
      ]
     },
     "execution_count": 187,
     "metadata": {},
     "output_type": "execute_result"
    }
   ],
   "source": [
    "from sklearn.metrics import r2_score\n",
    "accuracy4 = r2_score(y_test,y_test_pred)\n",
    "accuracy4 * 100"
   ]
  },
  {
   "cell_type": "code",
   "execution_count": null,
   "metadata": {},
   "outputs": [],
   "source": [
    "the acuracy score is 98 % but the accuracy score of simple linear regression is 87 % w.r.t test data\n"
   ]
  },
  {
   "cell_type": "raw",
   "metadata": {},
   "source": [
    "predicting paticular age using simple linear regression"
   ]
  },
  {
   "cell_type": "code",
   "execution_count": 188,
   "metadata": {},
   "outputs": [
    {
     "data": {
      "text/plain": [
       "array([168.52966207])"
      ]
     },
     "execution_count": 188,
     "metadata": {},
     "output_type": "execute_result"
    }
   ],
   "source": [
    "# using simple linear regression\n",
    "reg.predict([[53]])"
   ]
  },
  {
   "cell_type": "code",
   "execution_count": 194,
   "metadata": {},
   "outputs": [
    {
     "data": {
      "text/plain": [
       "array([162.81769144])"
      ]
     },
     "execution_count": 194,
     "metadata": {},
     "output_type": "execute_result"
    }
   ],
   "source": [
    "# using polynomial linear regression\n",
    "\n",
    "a=reg1.predict(polynom.fit_transform([[53]]))\n",
    "a"
   ]
  },
  {
   "cell_type": "code",
   "execution_count": null,
   "metadata": {},
   "outputs": [],
   "source": []
  }
 ],
 "metadata": {
  "kernelspec": {
   "display_name": "Python 3",
   "language": "python",
   "name": "python3"
  },
  "language_info": {
   "codemirror_mode": {
    "name": "ipython",
    "version": 3
   },
   "file_extension": ".py",
   "mimetype": "text/x-python",
   "name": "python",
   "nbconvert_exporter": "python",
   "pygments_lexer": "ipython3",
   "version": "3.7.4"
  }
 },
 "nbformat": 4,
 "nbformat_minor": 2
}
