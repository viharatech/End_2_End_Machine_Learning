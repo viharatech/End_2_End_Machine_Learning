{
 "cells": [
  {
   "cell_type": "markdown",
   "metadata": {},
   "source": [
    "## cross_validation"
   ]
  },
  {
   "cell_type": "code",
   "execution_count": 251,
   "metadata": {},
   "outputs": [],
   "source": [
    "import numpy as np\n",
    "import pandas as pd\n",
    "import matplotlib.pyplot as plt"
   ]
  },
  {
   "cell_type": "code",
   "execution_count": 252,
   "metadata": {},
   "outputs": [],
   "source": [
    "digits = load_digits()"
   ]
  },
  {
   "cell_type": "code",
   "execution_count": 253,
   "metadata": {},
   "outputs": [
    {
     "data": {
      "text/plain": [
       "array([[ 0.,  0.,  5., ...,  0.,  0.,  0.],\n",
       "       [ 0.,  0.,  0., ..., 10.,  0.,  0.],\n",
       "       [ 0.,  0.,  0., ..., 16.,  9.,  0.],\n",
       "       ...,\n",
       "       [ 0.,  0.,  1., ...,  6.,  0.,  0.],\n",
       "       [ 0.,  0.,  2., ..., 12.,  0.,  0.],\n",
       "       [ 0.,  0., 10., ..., 12.,  1.,  0.]])"
      ]
     },
     "execution_count": 253,
     "metadata": {},
     "output_type": "execute_result"
    }
   ],
   "source": [
    "digits.data"
   ]
  },
  {
   "cell_type": "code",
   "execution_count": 254,
   "metadata": {},
   "outputs": [
    {
     "data": {
      "text/plain": [
       "array([0, 1, 2, ..., 8, 9, 8])"
      ]
     },
     "execution_count": 254,
     "metadata": {},
     "output_type": "execute_result"
    }
   ],
   "source": [
    "digits.target"
   ]
  },
  {
   "cell_type": "code",
   "execution_count": 271,
   "metadata": {},
   "outputs": [],
   "source": [
    "from sklearn.model_selection import train_test_split\n",
    "X_train, X_test, y_train, y_test = train_test_split(digits.data, digits.target, test_size=0.33)"
   ]
  },
  {
   "cell_type": "code",
   "execution_count": 272,
   "metadata": {},
   "outputs": [
    {
     "data": {
      "text/plain": [
       "array([[ 0.,  0.,  0., ...,  0.,  0.,  0.],\n",
       "       [ 0.,  4., 13., ...,  7.,  0.,  0.],\n",
       "       [ 0.,  0.,  7., ...,  9.,  1.,  0.],\n",
       "       ...,\n",
       "       [ 0.,  0.,  5., ..., 16.,  6.,  0.],\n",
       "       [ 0.,  0.,  0., ..., 14.,  4.,  0.],\n",
       "       [ 0.,  0.,  8., ...,  5.,  0.,  0.]])"
      ]
     },
     "execution_count": 272,
     "metadata": {},
     "output_type": "execute_result"
    }
   ],
   "source": [
    "X_train"
   ]
  },
  {
   "cell_type": "code",
   "execution_count": 273,
   "metadata": {},
   "outputs": [
    {
     "data": {
      "text/plain": [
       "array([4, 3, 8, ..., 9, 2, 3])"
      ]
     },
     "execution_count": 273,
     "metadata": {},
     "output_type": "execute_result"
    }
   ],
   "source": [
    "y_train"
   ]
  },
  {
   "cell_type": "code",
   "execution_count": 274,
   "metadata": {},
   "outputs": [
    {
     "data": {
      "text/plain": [
       "array([[ 0.,  0.,  6., ...,  1.,  0.,  0.],\n",
       "       [ 0.,  0.,  3., ..., 14.,  3.,  0.],\n",
       "       [ 0.,  0.,  6., ..., 12.,  1.,  0.],\n",
       "       ...,\n",
       "       [ 0.,  0., 15., ...,  0.,  0.,  0.],\n",
       "       [ 0.,  0.,  0., ...,  0.,  0.,  0.],\n",
       "       [ 0.,  0.,  3., ...,  8.,  0.,  0.]])"
      ]
     },
     "execution_count": 274,
     "metadata": {},
     "output_type": "execute_result"
    }
   ],
   "source": [
    "X_test"
   ]
  },
  {
   "cell_type": "code",
   "execution_count": 275,
   "metadata": {},
   "outputs": [
    {
     "data": {
      "text/plain": [
       "array([5, 0, 3, 4, 3, 2, 4, 3, 4, 0, 5, 5, 9, 8, 5, 2, 0, 3, 9, 8, 1, 5,\n",
       "       4, 4, 8, 3, 8, 6, 9, 8, 5, 9, 6, 1, 1, 6, 4, 7, 1, 2, 5, 7, 1, 6,\n",
       "       3, 6, 7, 8, 0, 5, 1, 8, 5, 2, 5, 5, 3, 9, 2, 4, 2, 9, 9, 5, 0, 4,\n",
       "       6, 5, 0, 3, 1, 3, 5, 3, 3, 7, 3, 7, 2, 6, 3, 3, 4, 2, 3, 8, 9, 6,\n",
       "       9, 5, 5, 5, 5, 4, 0, 1, 5, 8, 3, 9, 7, 3, 0, 2, 2, 1, 8, 7, 4, 1,\n",
       "       7, 0, 5, 3, 4, 2, 4, 8, 9, 4, 5, 7, 0, 7, 9, 9, 7, 0, 0, 5, 2, 0,\n",
       "       2, 9, 2, 7, 2, 4, 9, 0, 7, 1, 0, 4, 0, 2, 8, 0, 2, 6, 9, 9, 8, 1,\n",
       "       7, 2, 4, 7, 8, 4, 2, 7, 6, 8, 1, 9, 7, 5, 3, 4, 3, 3, 8, 4, 0, 8,\n",
       "       7, 3, 3, 2, 2, 3, 8, 4, 6, 0, 1, 1, 7, 1, 5, 6, 0, 6, 0, 4, 0, 3,\n",
       "       7, 3, 9, 5, 8, 6, 1, 0, 5, 4, 6, 6, 9, 9, 6, 0, 8, 2, 3, 5, 9, 0,\n",
       "       5, 5, 6, 9, 3, 9, 3, 2, 5, 8, 5, 8, 0, 4, 8, 7, 0, 9, 8, 2, 4, 2,\n",
       "       9, 4, 7, 2, 0, 1, 5, 1, 6, 1, 0, 6, 3, 9, 7, 6, 6, 0, 3, 0, 1, 3,\n",
       "       6, 1, 0, 0, 6, 8, 5, 7, 9, 4, 2, 5, 9, 5, 8, 2, 7, 0, 1, 1, 9, 8,\n",
       "       8, 3, 8, 6, 6, 7, 3, 5, 7, 7, 9, 8, 8, 6, 7, 1, 9, 4, 9, 2, 0, 7,\n",
       "       5, 2, 6, 8, 2, 0, 1, 9, 7, 6, 5, 5, 3, 6, 5, 2, 4, 4, 5, 7, 4, 2,\n",
       "       8, 7, 8, 0, 9, 6, 6, 4, 8, 6, 2, 6, 1, 6, 8, 6, 2, 1, 1, 0, 9, 7,\n",
       "       0, 5, 8, 6, 2, 9, 1, 5, 4, 8, 2, 6, 1, 0, 8, 7, 4, 9, 2, 2, 9, 2,\n",
       "       7, 5, 5, 3, 9, 0, 3, 6, 1, 0, 6, 2, 8, 6, 6, 2, 4, 2, 7, 1, 4, 3,\n",
       "       9, 1, 7, 1, 0, 0, 1, 6, 6, 5, 6, 2, 3, 7, 3, 5, 3, 3, 1, 8, 5, 7,\n",
       "       4, 5, 4, 5, 9, 2, 0, 4, 1, 9, 7, 3, 6, 7, 0, 7, 2, 8, 1, 5, 9, 3,\n",
       "       5, 9, 2, 5, 4, 0, 9, 3, 5, 7, 1, 8, 0, 3, 7, 3, 4, 3, 7, 4, 7, 5,\n",
       "       7, 7, 4, 9, 9, 5, 0, 4, 7, 1, 0, 1, 1, 6, 2, 6, 5, 9, 4, 5, 8, 7,\n",
       "       4, 2, 6, 9, 6, 2, 4, 2, 4, 4, 9, 1, 2, 1, 5, 6, 9, 0, 8, 9, 1, 3,\n",
       "       7, 3, 4, 3, 1, 7, 9, 7, 4, 5, 5, 3, 1, 5, 8, 5, 3, 4, 8, 9, 0, 0,\n",
       "       3, 5, 0, 6, 6, 9, 6, 7, 8, 6, 1, 6, 3, 3, 4, 1, 2, 4, 9, 9, 4, 8,\n",
       "       0, 0, 0, 4, 8, 0, 9, 3, 9, 8, 4, 1, 6, 9, 9, 7, 8, 5, 2, 2, 4, 3,\n",
       "       2, 0, 6, 4, 4, 8, 3, 4, 3, 1, 1, 6, 5, 5, 8, 4, 9, 9, 9, 5, 4, 6])"
      ]
     },
     "execution_count": 275,
     "metadata": {},
     "output_type": "execute_result"
    }
   ],
   "source": [
    "y_test"
   ]
  },
  {
   "cell_type": "code",
   "execution_count": 276,
   "metadata": {},
   "outputs": [],
   "source": [
    "from sklearn.linear_model import LogisticRegression\n",
    "from sklearn.svm import SVC\n",
    "from sklearn.ensemble import RandomForestClassifier"
   ]
  },
  {
   "cell_type": "code",
   "execution_count": 277,
   "metadata": {},
   "outputs": [
    {
     "data": {
      "text/plain": [
       "0.9595959595959596"
      ]
     },
     "execution_count": 277,
     "metadata": {},
     "output_type": "execute_result"
    }
   ],
   "source": [
    "reg = LogisticRegression(solver='liblinear',warm_start='False',multi_class='ovr')\n",
    "reg.fit(X_train,y_train)\n",
    "reg.score(X_test,y_test)"
   ]
  },
  {
   "cell_type": "code",
   "execution_count": 278,
   "metadata": {},
   "outputs": [
    {
     "data": {
      "text/plain": [
       "0.5151515151515151"
      ]
     },
     "execution_count": 278,
     "metadata": {},
     "output_type": "execute_result"
    }
   ],
   "source": [
    "reg1 =SVC(gamma='auto')\n",
    "reg1.fit(X_train,y_train)\n",
    "reg1.score(X_test,y_test)"
   ]
  },
  {
   "cell_type": "code",
   "execution_count": 279,
   "metadata": {},
   "outputs": [
    {
     "data": {
      "text/plain": [
       "0.9764309764309764"
      ]
     },
     "execution_count": 279,
     "metadata": {},
     "output_type": "execute_result"
    }
   ],
   "source": [
    "reg2 = RandomForestClassifier(n_estimators=30)\n",
    "reg2.fit(X_train,y_train)\n",
    "reg2.score(X_test,y_test)"
   ]
  },
  {
   "cell_type": "markdown",
   "metadata": {},
   "source": [
    "## k_fold"
   ]
  },
  {
   "cell_type": "code",
   "execution_count": 280,
   "metadata": {},
   "outputs": [],
   "source": [
    "from sklearn.model_selection import KFold\n",
    "a = KFold(n_splits=3)\n"
   ]
  },
  {
   "cell_type": "code",
   "execution_count": 281,
   "metadata": {},
   "outputs": [
    {
     "name": "stdout",
     "output_type": "stream",
     "text": [
      "[3 4 5 6 7 8] [0 1 2]\n",
      "[0 1 2 6 7 8] [3 4 5]\n",
      "[0 1 2 3 4 5] [6 7 8]\n"
     ]
    }
   ],
   "source": [
    "for train_data,test_data in a.split([1,2,3,4,5,6,7,8,9]):\n",
    "    print(train_data,test_data)"
   ]
  },
  {
   "cell_type": "markdown",
   "metadata": {},
   "source": [
    "###  StratifiedKFold"
   ]
  },
  {
   "cell_type": "code",
   "execution_count": 290,
   "metadata": {},
   "outputs": [],
   "source": [
    "from sklearn.model_selection import StratifiedKFold"
   ]
  },
  {
   "cell_type": "code",
   "execution_count": 291,
   "metadata": {},
   "outputs": [],
   "source": [
    "b = StratifiedKFold(n_splits=3)"
   ]
  },
  {
   "cell_type": "code",
   "execution_count": 300,
   "metadata": {},
   "outputs": [],
   "source": [
    "scores_logistic = []\n",
    "scores_svm = []\n",
    "scores_rf = []\n",
    "\n",
    "for train_index, test_index in b.split(digits.data,digits.target):\n",
    "    X_train, X_test, y_train, y_test = digits.data[train_index], digits.data[test_index], \\\n",
    "                                       digits.target[train_index], digits.target[test_index]\n",
    "    scores_logistic.append(get_score(LogisticRegression(solver='liblinear',multi_class='ovr'), X_train, X_test, y_train, y_test))  \n",
    "    scores_svm.append(get_score(SVC(gamma='auto'), X_train, X_test, y_train, y_test))\n",
    "    scores_rf.append(get_score(RandomForestClassifier(n_estimators=40), X_train, X_test, y_train, y_test))\n",
    "    "
   ]
  },
  {
   "cell_type": "code",
   "execution_count": 301,
   "metadata": {},
   "outputs": [
    {
     "data": {
      "text/plain": [
       "[0.8953488372093024, 0.9499165275459098, 0.9093959731543624]"
      ]
     },
     "execution_count": 301,
     "metadata": {},
     "output_type": "execute_result"
    }
   ],
   "source": [
    "\n",
    "scores_logistic"
   ]
  },
  {
   "cell_type": "code",
   "execution_count": 302,
   "metadata": {},
   "outputs": [
    {
     "data": {
      "text/plain": [
       "[0.39368770764119604, 0.41068447412353926, 0.4597315436241611]"
      ]
     },
     "execution_count": 302,
     "metadata": {},
     "output_type": "execute_result"
    }
   ],
   "source": [
    "scores_svm"
   ]
  },
  {
   "cell_type": "code",
   "execution_count": 303,
   "metadata": {},
   "outputs": [
    {
     "data": {
      "text/plain": [
       "[0.925249169435216, 0.9482470784641068, 0.9345637583892618]"
      ]
     },
     "execution_count": 303,
     "metadata": {},
     "output_type": "execute_result"
    }
   ],
   "source": [
    "scores_rf"
   ]
  },
  {
   "cell_type": "markdown",
   "metadata": {},
   "source": [
    "## cross_val_score"
   ]
  },
  {
   "cell_type": "code",
   "execution_count": 304,
   "metadata": {},
   "outputs": [],
   "source": [
    "from sklearn.model_selection import cross_val_score"
   ]
  },
  {
   "cell_type": "code",
   "execution_count": 305,
   "metadata": {},
   "outputs": [
    {
     "data": {
      "text/plain": [
       "array([0.89534884, 0.94991653, 0.90939597])"
      ]
     },
     "execution_count": 305,
     "metadata": {},
     "output_type": "execute_result"
    }
   ],
   "source": [
    "cross_val_score(LogisticRegression(solver='liblinear',multi_class='ovr'), digits.data, digits.target,cv=3)"
   ]
  },
  {
   "cell_type": "code",
   "execution_count": 307,
   "metadata": {},
   "outputs": [
    {
     "data": {
      "text/plain": [
       "array([0.39368771, 0.41068447, 0.45973154])"
      ]
     },
     "execution_count": 307,
     "metadata": {},
     "output_type": "execute_result"
    }
   ],
   "source": [
    "cross_val_score(SVC(gamma='auto'), digits.data, digits.target,cv=3)"
   ]
  },
  {
   "cell_type": "code",
   "execution_count": 308,
   "metadata": {},
   "outputs": [
    {
     "data": {
      "text/plain": [
       "array([0.91694352, 0.95492487, 0.91610738])"
      ]
     },
     "execution_count": 308,
     "metadata": {},
     "output_type": "execute_result"
    }
   ],
   "source": [
    "cross_val_score(RandomForestClassifier(n_estimators=40), digits.data, digits.target,cv=3)"
   ]
  },
  {
   "cell_type": "code",
   "execution_count": null,
   "metadata": {},
   "outputs": [],
   "source": []
  }
 ],
 "metadata": {
  "kernelspec": {
   "display_name": "Python 3",
   "language": "python",
   "name": "python3"
  },
  "language_info": {
   "codemirror_mode": {
    "name": "ipython",
    "version": 3
   },
   "file_extension": ".py",
   "mimetype": "text/x-python",
   "name": "python",
   "nbconvert_exporter": "python",
   "pygments_lexer": "ipython3",
   "version": "3.7.4"
  }
 },
 "nbformat": 4,
 "nbformat_minor": 2
}
